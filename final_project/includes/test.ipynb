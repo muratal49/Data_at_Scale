{
 "cells": [
  {
   "cell_type": "code",
   "execution_count": 0,
   "metadata": {
    "application/vnd.databricks.v1+cell": {
     "cellMetadata": {
      "byteLimit": 2048000,
      "rowLimit": 10000
     },
     "inputWidgets": {},
     "nuid": "bab15f95-1f36-4f08-88b7-d10c794cd5b3",
     "showTitle": false,
     "tableResultSettingsMap": {},
     "title": ""
    }
   },
   "outputs": [],
   "source": []
  },
  {
   "cell_type": "code",
   "execution_count": 0,
   "metadata": {
    "application/vnd.databricks.v1+cell": {
     "cellMetadata": {
      "byteLimit": 2048000,
      "rowLimit": 10000
     },
     "inputWidgets": {},
     "nuid": "f66a9b50-ecd3-4af9-91c7-619f6bd3ccfe",
     "showTitle": false,
     "tableResultSettingsMap": {},
     "title": ""
    }
   },
   "outputs": [],
   "source": [
    "# -------------------------------\n",
    "# Sample Data\n",
    "# -------------------------------\n",
    "data = [\n",
    "    (\"I love this product!\",),\n",
    "    (\"This is the worst experience ever.\",),\n",
    "    (\"Just okay, not great\",),\n",
    "    (\"I am a student\",),\n",
    "    (None,),\n",
    "]\n",
    "\n",
    "test_df = spark.createDataFrame(data, [\"cleaned_text\"])\n",
    "hf_sentiment=set_hf_sentiment_model_batch_size(batch_size=16)\n",
    "# -------------------------------\n",
    "# Apply UDFs and Show Results\n",
    "# -------------------------------\n",
    "result_df = (\n",
    "    test_df\n",
    "    .filter(col(\"cleaned_text\").isNotNull() & (col(\"cleaned_text\") != \"\"))\n",
    "    .withColumn(\"sentiment_result\", get_sentiment_udf(col(\"cleaned_text\")))\n",
    "    .withColumn(\"predicted_sentiment\", col(\"sentiment_result.label\"))\n",
    "    .withColumn(\"predicted_score\", col(\"sentiment_result.score\"))\n",
    "    .withColumn(\"predicted_sentiment_id\", col(\"sentiment_result.binary\"))\n",
    ")\n",
    "\n",
    "display(result_df)"
   ]
  },
  {
   "cell_type": "code",
   "execution_count": 0,
   "metadata": {
    "application/vnd.databricks.v1+cell": {
     "cellMetadata": {},
     "inputWidgets": {},
     "nuid": "4b5ff0ce-1e19-43b3-bc10-f71a47458969",
     "showTitle": false,
     "tableResultSettingsMap": {},
     "title": ""
    }
   },
   "outputs": [],
   "source": []
  }
 ],
 "metadata": {
  "application/vnd.databricks.v1+notebook": {
   "computePreferences": null,
   "dashboards": [],
   "environmentMetadata": {
    "base_environment": "",
    "environment_version": "2"
   },
   "inputWidgetPreferences": null,
   "language": "python",
   "notebookMetadata": {
    "pythonIndentUnit": 4
   },
   "notebookName": "test",
   "widgets": {}
  },
  "language_info": {
   "name": "python"
  }
 },
 "nbformat": 4,
 "nbformat_minor": 0
}
