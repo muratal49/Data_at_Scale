{
 "cells": [
  {
   "cell_type": "markdown",
   "metadata": {
    "application/vnd.databricks.v1+cell": {
     "cellMetadata": {
      "byteLimit": 2048000,
      "rowLimit": 10000
     },
     "inputWidgets": {},
     "nuid": "fc749083-2211-485c-943f-640e198b2c70",
     "showTitle": false,
     "tableResultSettingsMap": {},
     "title": ""
    }
   },
   "source": [
    "## DSCC202-402 Data Science at Scale Final Project\n",
    "### Tracking Tweet sentiment at scale using a pretrained transformer (classifier)\n",
    "<p>Consider the following illustration of the end to end system that you will be building.  Each student should do their own work.  The project will demonstrate your understanding of Spark Streaming, the medalion data architecture using Delta Lake, Spark Inference at Scale using an MLflow packaged model as well as Exploritory Data Analysis and System Tracking and Monitoring.</p>\n",
    "<br><br>\n",
    "<img src=\"https://data-science-at-scale.s3.amazonaws.com/images/pipeline.drawio.png\">\n",
    "\n",
    "<p>\n",
    "You will be pulling an updated copy of the course GitHub repositiory: <a href=\"https://github.com/lpalum/dscc202-402-spring2025\">The Repo</a>.  \n",
    "\n",
    "Once you have updated your fork of the repository you should see the following template project that is resident in the final_project directory.\n",
    "</p>\n",
    "\n",
    "<img src=\"https://data-science-at-scale.s3.amazonaws.com/images/notebooks.drawio.png\">\n",
    "\n",
    "<p>\n",
    "You can then pull your project into the Databrick Workspace using the <a href=\"https://github.com/apps/databricks\">Databricks App on Github</a> or by cloning the repo to your laptop and then uploading the final_project directory and its contents to your workspace using file imports.  Your choice.\n",
    "\n",
    "<p>\n",
    "Work your way through this notebook which will give you the steps required to submit a complete and compliant project.  The following illustration and associated data dictionary specifies the transformations and data that you are to generate for each step in the medallion pipeline.\n",
    "</p>\n",
    "<br><br>\n",
    "<img src=\"https://data-science-at-scale.s3.amazonaws.com/images/dataframes.drawio.png\">\n",
    "\n",
    "#### Bronze Data - raw ingest\n",
    "- date - string in the source json\n",
    "- user - string in the source json\n",
    "- text - tweet string in the source json\n",
    "- sentiment - the given sentiment of the text as determined by an unknown model that is provided in the source json\n",
    "- source_file - the path of the source json file the this row of data was read from\n",
    "- processing_time - a timestamp of when you read this row from the source json\n",
    "\n",
    "#### Silver Data - Bronze Preprocessing\n",
    "- timestamp - convert date string in the bronze data to a timestamp\n",
    "- mention - every @username mentioned in the text string in the bronze data gets a row in this silver data table.\n",
    "- cleaned_text - the bronze text data with the mentions (@username) removed.\n",
    "- sentiment - the given sentiment that was associated with the text in the bronze table.\n",
    "\n",
    "#### Gold Data - Silver Table Inference\n",
    "- timestamp - the timestamp from the silver data table rows\n",
    "- mention - the mention from the silver data table rows\n",
    "- cleaned_text - the cleaned_text from the silver data table rows\n",
    "- sentiment - the given sentiment from the silver data table rows\n",
    "- predicted_score - score out of 100 from the Hugging Face Sentiment Transformer\n",
    "- predicted_sentiment - string representation of the sentiment\n",
    "- sentiment_id - 0 for negative and 1 for postive associated with the given sentiment\n",
    "- predicted_sentiment_id - 0 for negative and 1 for positive assocaited with the Hugging Face Sentiment Transformer\n",
    "\n",
    "#### Application Data - Gold Table Aggregation\n",
    "- min_timestamp - the oldest timestamp on a given mention (@username)\n",
    "- max_timestamp - the newest timestamp on a given mention (@username)\n",
    "- mention - the user (@username) that this row pertains to.\n",
    "- negative - total negative tweets directed at this mention (@username)\n",
    "- neutral - total neutral tweets directed at this mention (@username)\n",
    "- positive - total positive tweets directed at this mention (@username)\n",
    "\n",
    "When you are designing your approach, one of the main decisions that you will need to make is how you are going to orchestrate the streaming data processing in your pipeline.  There are several valid approaches to triggering your steams and how you will gate the execution of your pipeline.  Think through how you want to proceed and ask questions if you need guidance. The following references may be helpful:\n",
    "- [Spark Structured Streaming Programming Guide](https://spark.apache.org/docs/latest/structured-streaming-programming-guide.html)\n",
    "- [Databricks Autoloader - Cloudfiles](https://docs.databricks.com/en/ingestion/auto-loader/index.html)\n",
    "- [In class examples - Spark Structured Streaming Performance](https://dbc-f85bdc5b-07db.cloud.databricks.com/editor/notebooks/2638424645880316?o=1093580174577663)\n",
    "\n",
    "### Be sure your project runs end to end when *Run all* is executued on this notebook! (7 points)\n",
    "\n",
    "### This project is worth 25% of your final grade.\n",
    "- DSCC-202 Students have 55 possible points on this project (see points above and the instructions below)\n",
    "- DSCC-402 Students have 60 possible points on this project (one extra section to complete)"
   ]
  },
  {
   "cell_type": "markdown",
   "metadata": {
    "application/vnd.databricks.v1+cell": {
     "cellMetadata": {
      "byteLimit": 2048000,
      "rowLimit": 10000
     },
     "inputWidgets": {},
     "nuid": "27a1e2dc-90ac-4030-bdde-77b3e5f05b40",
     "showTitle": false,
     "tableResultSettingsMap": {},
     "title": ""
    }
   },
   "source": []
  },
  {
   "cell_type": "code",
   "execution_count": 0,
   "metadata": {
    "application/vnd.databricks.v1+cell": {
     "cellMetadata": {
      "byteLimit": 2048000,
      "rowLimit": 10000
     },
     "inputWidgets": {},
     "nuid": "068f25d0-1387-4342-89cf-ce82a8d614ce",
     "showTitle": true,
     "tableResultSettingsMap": {},
     "title": "Pull in the Includes & Utiltites"
    }
   },
   "outputs": [],
   "source": [
    " %run ./includes/includes\n"
   ]
  },
  {
   "cell_type": "code",
   "execution_count": 0,
   "metadata": {
    "application/vnd.databricks.v1+cell": {
     "cellMetadata": {
      "byteLimit": 2048000,
      "rowLimit": 10000
     },
     "inputWidgets": {},
     "nuid": "0b626cb9-a73f-42ea-9a39-84a3565088fa",
     "showTitle": false,
     "tableResultSettingsMap": {},
     "title": ""
    }
   },
   "outputs": [],
   "source": [
    "#  %run ./includes/utilities"
   ]
  },
  {
   "cell_type": "code",
   "execution_count": 0,
   "metadata": {
    "application/vnd.databricks.v1+cell": {
     "cellMetadata": {
      "byteLimit": 2048000,
      "rowLimit": 10000
     },
     "inputWidgets": {},
     "nuid": "61a2ffcd-9ebe-4183-9ce8-e18ea09e1e35",
     "showTitle": false,
     "tableResultSettingsMap": {},
     "title": ""
    }
   },
   "outputs": [],
   "source": [
    "# I PULLED START TIME here, becouse the includes initializing is taking time:\n",
    "\n",
    "# Set the notebooks starting time.\n",
    "START_TIME = time.time()"
   ]
  },
  {
   "cell_type": "markdown",
   "metadata": {
    "application/vnd.databricks.v1+cell": {
     "cellMetadata": {
      "byteLimit": 2048000,
      "rowLimit": 10000
     },
     "inputWidgets": {},
     "nuid": "1fb88ee2-247c-44bd-bc3b-3e9e97707d7a",
     "showTitle": false,
     "tableResultSettingsMap": {},
     "title": ""
    }
   },
   "source": [
    "### ADJUST THE MODEL BATCH SIZE:\n"
   ]
  },
  {
   "cell_type": "code",
   "execution_count": 0,
   "metadata": {
    "application/vnd.databricks.v1+cell": {
     "cellMetadata": {
      "byteLimit": 2048000,
      "rowLimit": 10000
     },
     "inputWidgets": {},
     "nuid": "52e73494-a09f-403d-ae3a-0fef25e7cad4",
     "showTitle": false,
     "tableResultSettingsMap": {},
     "title": ""
    }
   },
   "outputs": [],
   "source": [
    "batch_size=64\n",
    "hf_sentiment=set_hf_sentiment_model_batch_size(batch_size=batch_size)"
   ]
  },
  {
   "cell_type": "markdown",
   "metadata": {
    "application/vnd.databricks.v1+cell": {
     "cellMetadata": {
      "byteLimit": 2048000,
      "rowLimit": 10000
     },
     "inputWidgets": {},
     "nuid": "3b756e8d-1e90-47cf-bc66-5cae6aad0b24",
     "showTitle": false,
     "tableResultSettingsMap": {},
     "title": ""
    }
   },
   "source": [
    "### A quick test run, to check that my prediction code is running.."
   ]
  },
  {
   "cell_type": "code",
   "execution_count": 0,
   "metadata": {
    "application/vnd.databricks.v1+cell": {
     "cellMetadata": {
      "byteLimit": 2048000,
      "rowLimit": 10000
     },
     "inputWidgets": {},
     "nuid": "1af4da7c-5df6-42bb-8255-08cab349ac3b",
     "showTitle": false,
     "tableResultSettingsMap": {},
     "title": ""
    }
   },
   "outputs": [],
   "source": [
    "# %run ./includes/test"
   ]
  },
  {
   "cell_type": "code",
   "execution_count": 0,
   "metadata": {
    "application/vnd.databricks.v1+cell": {
     "cellMetadata": {
      "byteLimit": 2048000,
      "rowLimit": 10000
     },
     "inputWidgets": {},
     "nuid": "6512bf1b-50e0-4a4b-84a9-e280a6260b56",
     "showTitle": true,
     "tableResultSettingsMap": {},
     "title": "Notebook Control Widgets (maybe helpful)"
    }
   },
   "outputs": [],
   "source": [
    "\"\"\"\n",
    "Adding a widget to the notebook to control the clearing of a previous run.\n",
    "or stopping the active streams using routines defined in the utilities notebook\n",
    "\"\"\"\n",
    "dbutils.widgets.removeAll()\n",
    "\n",
    "#Additional widget:\n",
    "\n",
    "dbutils.widgets.dropdown(\"clear_previous_run\", \"No\", [\"No\",\"Yes\"])\n",
    "if (getArgument(\"clear_previous_run\") == \"Yes\"):\n",
    "    clear_previous_run()\n",
    "    print(\"Cleared all previous data.\")\n",
    "\n",
    "dbutils.widgets.dropdown(\"stop_streams\", \"No\", [\"No\",\"Yes\"])\n",
    "if (getArgument(\"stop_streams\") == \"Yes\"):\n",
    "    stop_all_streams()\n",
    "    print(\"Stopped all active streams.\")\n",
    "\n",
    "dbutils.widgets.dropdown(\"optimize_tables\", \"No\", [\"No\",\"Yes\"])\n",
    "if (getArgument(\"optimize_tables\") == \"Yes\"):\n",
    "    # Suck up those small files that we have been appending.\n",
    "    # Optimize the tables\n",
    "    optimize_table(BRONZE_DELTA)\n",
    "    optimize_table(SILVER_DELTA)\n",
    "    optimize_table(GOLD_DELTA)\n",
    "    print(\"Optimized all of the Delta Tables\")"
   ]
  },
  {
   "cell_type": "markdown",
   "metadata": {
    "application/vnd.databricks.v1+cell": {
     "cellMetadata": {
      "byteLimit": 2048000,
      "rowLimit": 10000
     },
     "inputWidgets": {},
     "nuid": "e8ce7c13-7f8f-4e11-b50c-fdaebbcf3f99",
     "showTitle": false,
     "tableResultSettingsMap": {},
     "title": ""
    }
   },
   "source": [
    "## 1.0 Import your libraries here (2 points)\n",
    "- Are your shuffle partitions consistent with your cluster and your workload?\n",
    "- Do you have the necessary libraries to perform the required operations in the pipeline/application?"
   ]
  },
  {
   "cell_type": "markdown",
   "metadata": {
    "application/vnd.databricks.v1+cell": {
     "cellMetadata": {
      "byteLimit": 2048000,
      "rowLimit": 10000
     },
     "inputWidgets": {},
     "nuid": "c5e9b419-6efb-458d-9641-1e60e65be10a",
     "showTitle": false,
     "tableResultSettingsMap": {},
     "title": ""
    }
   },
   "source": [
    "### ANSWER 1) \n",
    "a) Below I checked my partitions and cores that I have. It is recommended to set partitions two times\n",
    " the cores. \n",
    "\n",
    "b) Librarires  are added in the **LIBRARIES** cell in **[utilities](https://dbc-f85bdc5b-07db.cloud.databricks.com/editor/notebooks/4468159549031945?o=1093580174577663)/**"
   ]
  },
  {
   "cell_type": "code",
   "execution_count": 0,
   "metadata": {
    "application/vnd.databricks.v1+cell": {
     "cellMetadata": {
      "byteLimit": 2048000,
      "rowLimit": 10000
     },
     "inputWidgets": {},
     "nuid": "2727f3fd-22af-4f07-8854-f874e912922d",
     "showTitle": false,
     "tableResultSettingsMap": {},
     "title": ""
    }
   },
   "outputs": [],
   "source": [
    "#Current Partitions as default:\n",
    "spark.conf.get(\"spark.sql.shuffle.partitions\")\n"
   ]
  },
  {
   "cell_type": "code",
   "execution_count": 0,
   "metadata": {
    "application/vnd.databricks.v1+cell": {
     "cellMetadata": {
      "byteLimit": 2048000,
      "rowLimit": 10000
     },
     "inputWidgets": {},
     "nuid": "96000cf7-ae29-466b-82fb-d808a58e3c42",
     "showTitle": false,
     "tableResultSettingsMap": {},
     "title": ""
    }
   },
   "outputs": [],
   "source": [
    "#How many core\n",
    "sc.defaultParallelism\n"
   ]
  },
  {
   "cell_type": "code",
   "execution_count": 0,
   "metadata": {
    "application/vnd.databricks.v1+cell": {
     "cellMetadata": {
      "byteLimit": 2048000,
      "rowLimit": 10000
     },
     "inputWidgets": {},
     "nuid": "b124b47b-5050-4e33-b765-c68b9ff7969b",
     "showTitle": false,
     "tableResultSettingsMap": {},
     "title": ""
    }
   },
   "outputs": [],
   "source": [
    "#Then setting it to 8, which is recommended for now having x2 of cores:\n",
    "spark.conf.set(\"spark.sql.shuffle.partitions\", 8)\n",
    "spark.conf.set(\"spark.sql.legacy.timeParserPolicy\", \"LEGACY\")"
   ]
  },
  {
   "cell_type": "markdown",
   "metadata": {
    "application/vnd.databricks.v1+cell": {
     "cellMetadata": {
      "byteLimit": 2048000,
      "rowLimit": 10000
     },
     "inputWidgets": {},
     "nuid": "2b7624b4-0aa5-46b7-9767-52f462b2c574",
     "showTitle": false,
     "tableResultSettingsMap": {},
     "title": ""
    }
   },
   "source": [
    "## 2.0 Define and execute utility functions (3 points)\n",
    "- Read the source file directory listing\n",
    "- Count the source files (how many are there?)\n",
    "- print the contents of one of the files\n"
   ]
  },
  {
   "cell_type": "markdown",
   "metadata": {
    "application/vnd.databricks.v1+cell": {
     "cellMetadata": {
      "byteLimit": 2048000,
      "rowLimit": 10000
     },
     "inputWidgets": {},
     "nuid": "242e465a-bcb9-4aff-916f-1e0579e88250",
     "showTitle": false,
     "tableResultSettingsMap": {},
     "title": ""
    }
   },
   "source": [
    "### ANSWER 2) Cells below:"
   ]
  },
  {
   "cell_type": "code",
   "execution_count": 0,
   "metadata": {
    "application/vnd.databricks.v1+cell": {
     "cellMetadata": {
      "byteLimit": 2048000,
      "rowLimit": 10000
     },
     "inputWidgets": {},
     "nuid": "a59749d5-e45d-460f-9be1-33652cda2ea5",
     "showTitle": false,
     "tableResultSettingsMap": {},
     "title": ""
    }
   },
   "outputs": [],
   "source": [
    "# ENTER YOUR CODE HERE\n",
    "#A) Read the source file directory listing\n",
    "\n",
    "files = dbutils.fs.ls(TWEET_SOURCE_PATH)"
   ]
  },
  {
   "cell_type": "code",
   "execution_count": 0,
   "metadata": {
    "application/vnd.databricks.v1+cell": {
     "cellMetadata": {
      "byteLimit": 2048000,
      "rowLimit": 10000
     },
     "inputWidgets": {},
     "nuid": "e008cb0d-7d8a-4dab-8eaa-221eb2d80b2d",
     "showTitle": false,
     "tableResultSettingsMap": {},
     "title": ""
    }
   },
   "outputs": [],
   "source": [
    "# display(dbutils.fs.ls(\"dbfs:/FileStore/tables/\"))"
   ]
  },
  {
   "cell_type": "code",
   "execution_count": 0,
   "metadata": {
    "application/vnd.databricks.v1+cell": {
     "cellMetadata": {
      "byteLimit": 2048000,
      "rowLimit": 10000
     },
     "inputWidgets": {},
     "nuid": "20e6c850-5dc9-4cec-895f-3f166a16f87d",
     "showTitle": false,
     "tableResultSettingsMap": {},
     "title": ""
    }
   },
   "outputs": [],
   "source": [
    "print('The folder looks like this:')\n",
    "display(files[:2])\n",
    "source_file_count = len(files)\n",
    "print(\"*\"*40)\n",
    "print(f\"B) There are {source_file_count} source files in the source directory.\")\n",
    "print(\"*\"*40)\n",
    "print(\"C) Sample Json looks like this:\")\n",
    "sample_path=files[0].path\n",
    "sample_df = spark.read.json(sample_path)\n",
    "display(sample_df)\n",
    "print('-Columns in in Json file:',sample_df.columns)"
   ]
  },
  {
   "cell_type": "markdown",
   "metadata": {
    "application/vnd.databricks.v1+cell": {
     "cellMetadata": {
      "byteLimit": 2048000,
      "rowLimit": 10000
     },
     "inputWidgets": {},
     "nuid": "a21c40f5-3410-4a87-8ee0-8f9575d666a6",
     "showTitle": false,
     "tableResultSettingsMap": {},
     "title": ""
    }
   },
   "source": [
    "## TEST DATA FILE: \n",
    "I created a test sample set for quick checks if code was running. It is such that it copies file to the test folder under new names so that stream keeps reading and writing...\n",
    "- Functions are added into the [UTILITIES/](https://dbc-f85bdc5b-07db.cloud.databricks.com/editor/notebooks/4468159549031945?o=1093580174577663)\n",
    "- * copy_new_test_files(num_files=10)  \n",
    "- create a temp folder under USER_DIR defined\n",
    "- copy most recent n files into that folder \n",
    "- use these folder fur initial test runs"
   ]
  },
  {
   "cell_type": "markdown",
   "metadata": {
    "application/vnd.databricks.v1+cell": {
     "cellMetadata": {
      "byteLimit": 2048000,
      "rowLimit": 10000
     },
     "inputWidgets": {},
     "nuid": "b17e517d-4850-43ba-acbf-b8a7184f72d8",
     "showTitle": false,
     "tableResultSettingsMap": {},
     "title": ""
    }
   },
   "source": [
    "#### TEST FILE:\n",
    " This is just a sample run of the preditcion model. A toy data and a test file for the HF MODEL  in ./incldues/test"
   ]
  },
  {
   "cell_type": "code",
   "execution_count": 0,
   "metadata": {
    "application/vnd.databricks.v1+cell": {
     "cellMetadata": {
      "byteLimit": 2048000,
      "rowLimit": 10000
     },
     "inputWidgets": {},
     "nuid": "a0efdce3-6472-46cd-956c-f1eadded30f4",
     "showTitle": false,
     "tableResultSettingsMap": {},
     "title": ""
    }
   },
   "outputs": [],
   "source": [
    "# %run ./includes/test"
   ]
  },
  {
   "cell_type": "code",
   "execution_count": 0,
   "metadata": {
    "application/vnd.databricks.v1+cell": {
     "cellMetadata": {
      "byteLimit": 2048000,
      "rowLimit": 10000
     },
     "inputWidgets": {},
     "nuid": "0e21c3d0-43b8-43ed-ad1b-e6a01fb7634f",
     "showTitle": false,
     "tableResultSettingsMap": {},
     "title": ""
    }
   },
   "outputs": [],
   "source": [
    "#Uncomment this box for test runs..\n",
    "\n",
    "# dbutils.fs.rm(TEST_PATH, recurse=True)\n",
    "# copy_new_test_files(num_files=10)\n",
    "\n",
    "# print('The folder looks like this:')\n",
    "# print(f'Test folder has {len(dbutils.fs.ls(TEST_PATH))} ')\n",
    "# test_files=spark.createDataFrame(dbutils.fs.ls(TEST_PATH))\n",
    "# display(test_files.select('name').distinct().count())"
   ]
  },
  {
   "cell_type": "code",
   "execution_count": 0,
   "metadata": {
    "application/vnd.databricks.v1+cell": {
     "cellMetadata": {
      "byteLimit": 2048000,
      "rowLimit": 10000
     },
     "inputWidgets": {},
     "nuid": "d5ce51a0-81bd-4015-91f8-d8e3f7fd3d24",
     "showTitle": false,
     "tableResultSettingsMap": {},
     "title": ""
    }
   },
   "outputs": [],
   "source": [
    "spark.streams.active"
   ]
  },
  {
   "cell_type": "markdown",
   "metadata": {
    "application/vnd.databricks.v1+cell": {
     "cellMetadata": {
      "byteLimit": 2048000,
      "rowLimit": 10000
     },
     "inputWidgets": {},
     "nuid": "1676aed7-527f-4ea7-9d3b-52544e8c1e37",
     "showTitle": false,
     "tableResultSettingsMap": {},
     "title": ""
    }
   },
   "source": [
    "## 3.0 Transform the Raw Data to Bronze Data using a stream  (8 points)\n",
    "- define the schema for the raw data\n",
    "- setup a read stream using cloudfiles and the source data format\n",
    "- setup a write stream using delta lake to append to the bronze delta table\n",
    "- enforce schema\n",
    "- allow a new schema to be merged into the bronze delta table\n",
    "- Use the defined BRONZE_CHECKPOINT and BRONZE_DELTA paths defined in the includes\n",
    "- name your raw to bronze stream as bronze_stream\n",
    "- transform the raw data to the bronze data using the data definition at the top of the notebook\n"
   ]
  },
  {
   "cell_type": "markdown",
   "metadata": {
    "application/vnd.databricks.v1+cell": {
     "cellMetadata": {
      "byteLimit": 2048000,
      "rowLimit": 10000
     },
     "inputWidgets": {},
     "nuid": "115a58dd-b9ce-46ff-8b4f-e088fdcb534f",
     "showTitle": false,
     "tableResultSettingsMap": {},
     "title": ""
    }
   },
   "source": [
    "### ANSWER 3:\n",
    "- I added the stream set-up code under [UTILITIES/](https://dbc-f85bdc5b-07db.cloud.databricks.com/editor/notebooks/4468159549031945?o=1093580174577663) folder into the **BRONZE_STREAM** cell. \n",
    "- it also stops current streams if any before starting the reading. Function call\n",
    "\n",
    " *bronze_restart(source_path=TEST_PATH, delay_between_starts=5)*\n",
    "\n",
    "*!! Don't forget to select your FILE SOURCE:  TEST or MAIN TWEETS folder in the cell below.\n",
    "\n",
    "\n"
   ]
  },
  {
   "cell_type": "code",
   "execution_count": 0,
   "metadata": {
    "application/vnd.databricks.v1+cell": {
     "cellMetadata": {
      "byteLimit": 2048000,
      "rowLimit": 10000
     },
     "inputWidgets": {},
     "nuid": "c65f3807-7522-4828-81b2-b22b35c3ed7f",
     "showTitle": false,
     "tableResultSettingsMap": {},
     "title": ""
    }
   },
   "outputs": [],
   "source": [
    "# bronze_restart(source_path=TEST_PATH, delay_between_starts=5)\n",
    "bronze_query=bronze_restart(source_path=TWEET_SOURCE_PATH, delay_between_starts=5)\n"
   ]
  },
  {
   "cell_type": "code",
   "execution_count": 0,
   "metadata": {
    "application/vnd.databricks.v1+cell": {
     "cellMetadata": {
      "byteLimit": 2048000,
      "rowLimit": 10000
     },
     "inputWidgets": {},
     "nuid": "39310a23-d1dc-4ada-ac0a-4a3c022efb73",
     "showTitle": false,
     "tableResultSettingsMap": {},
     "title": ""
    }
   },
   "outputs": [],
   "source": [
    "# copy_new_test_files(num_files=20)"
   ]
  },
  {
   "cell_type": "code",
   "execution_count": 0,
   "metadata": {
    "application/vnd.databricks.v1+cell": {
     "cellMetadata": {
      "byteLimit": 2048000,
      "rowLimit": 10000
     },
     "inputWidgets": {},
     "nuid": "0282519e-23c1-420e-a900-dd9a255c3d4b",
     "showTitle": false,
     "tableResultSettingsMap": {},
     "title": ""
    }
   },
   "outputs": [],
   "source": [
    "#checking active streams:\n",
    "for stream in spark.streams.active:\n",
    "    print(f\"Name: {stream.name}\")\n",
    "    print(f\"Is Active: {stream.isActive}\")\n",
    "    print(f\"Status: {stream.status}\")\n",
    "    # print(stream.recentProgress)\n",
    "    print(\"------\")\n",
    "\n"
   ]
  },
  {
   "cell_type": "markdown",
   "metadata": {
    "application/vnd.databricks.v1+cell": {
     "cellMetadata": {
      "byteLimit": 2048000,
      "rowLimit": 10000
     },
     "inputWidgets": {},
     "nuid": "f94a594e-1a85-458f-9fe8-959e06d2e5f0",
     "showTitle": false,
     "tableResultSettingsMap": {},
     "title": ""
    }
   },
   "source": [
    "## 4.0 Transform the Bronze Data to Silver Data using a stream (5 points)\n",
    "- setup a read stream on your bronze delta table\n",
    "- setup a write stream to append to the silver delta table\n",
    "- Use the defined SILVER_CHECKPOINT and SILVER_DELTA paths in the includes\n",
    "- name your bronze to silver stream as silver_stream\n",
    "- transform the bronze data to the silver data using the data definition at the top of the notebook"
   ]
  },
  {
   "cell_type": "markdown",
   "metadata": {
    "application/vnd.databricks.v1+cell": {
     "cellMetadata": {
      "byteLimit": 2048000,
      "rowLimit": 10000
     },
     "inputWidgets": {},
     "nuid": "3d99623d-23c9-4aac-89ff-2097866876ef",
     "showTitle": false,
     "tableResultSettingsMap": {},
     "title": ""
    }
   },
   "source": [
    "### ANSWER 4:\n",
    "- I added the stream set-up code under [UTILITIES/](https://dbc-f85bdc5b-07db.cloud.databricks.com/editor/notebooks/4468159549031945?o=1093580174577663) folder into the SILVER_STREAM cell. Function call:\n",
    "*silver_restart(delay_between_starts=5)*\n",
    "\n",
    "- it also stops current streams if any."
   ]
  },
  {
   "cell_type": "code",
   "execution_count": 0,
   "metadata": {
    "application/vnd.databricks.v1+cell": {
     "cellMetadata": {
      "byteLimit": 2048000,
      "rowLimit": 10000
     },
     "inputWidgets": {},
     "nuid": "bcc1af44-201b-4e33-9b03-a17ad6bc733a",
     "showTitle": false,
     "tableResultSettingsMap": {},
     "title": ""
    }
   },
   "outputs": [],
   "source": [
    "silver_query=silver_restart(delay_between_starts=5)"
   ]
  },
  {
   "cell_type": "markdown",
   "metadata": {
    "application/vnd.databricks.v1+cell": {
     "cellMetadata": {
      "byteLimit": 2048000,
      "rowLimit": 10000
     },
     "inputWidgets": {},
     "nuid": "4a8943c4-72cb-40a5-8dbf-4acb9cd93c4e",
     "showTitle": false,
     "tableResultSettingsMap": {},
     "title": ""
    }
   },
   "source": []
  },
  {
   "cell_type": "markdown",
   "metadata": {
    "application/vnd.databricks.v1+cell": {
     "cellMetadata": {
      "byteLimit": 2048000,
      "rowLimit": 10000
     },
     "inputWidgets": {},
     "nuid": "f87f7771-7bab-4c60-a4c2-f0c51e4a60ea",
     "showTitle": false,
     "tableResultSettingsMap": {},
     "title": ""
    }
   },
   "source": []
  },
  {
   "cell_type": "markdown",
   "metadata": {
    "application/vnd.databricks.v1+cell": {
     "cellMetadata": {
      "byteLimit": 2048000,
      "rowLimit": 10000
     },
     "inputWidgets": {},
     "nuid": "9ee38aba-e340-4766-8339-71ef2ecfde3a",
     "showTitle": false,
     "tableResultSettingsMap": {},
     "title": ""
    }
   },
   "source": [
    "## 5.0 Transform the Silver Data to Gold Data using a stream (7 points)\n",
    "- setup a read stream on your silver delta table\n",
    "- setup a write stream to append to the gold delta table\n",
    "- Use the defined GOLD_CHECKPOINT and GOLD_DELTA paths defines in the includes\n",
    "- name your silver to gold stream as gold_stream\n",
    "- transform the silver data to the gold data using the data definition at the top of the notebook\n",
    "- Load the pretrained transformer sentiment classifier from the MODEL_NAME at the production level from the MLflow registry\n",
    "- Use a spark UDF to parallelize the inference across your silver data"
   ]
  },
  {
   "cell_type": "markdown",
   "metadata": {
    "application/vnd.databricks.v1+cell": {
     "cellMetadata": {
      "byteLimit": 2048000,
      "rowLimit": 10000
     },
     "inputWidgets": {},
     "nuid": "76bfe4be-4b12-4f7e-9780-0cbe85039875",
     "showTitle": false,
     "tableResultSettingsMap": {},
     "title": ""
    }
   },
   "source": [
    "#### ASNWER 5:\n",
    "-  I added the stream set-up code under [UTILITIES/](https://dbc-f85bdc5b-07db.cloud.databricks.com/editor/notebooks/4468159549031945?o=1093580174577663) folder into the GOLD_STREAM cell. Function call:\n",
    "*gold_restart(delay_between_starts=5)*\n",
    "\n",
    "- it also stops current streams if any.\n",
    "\n",
    "- Before running gold I will try different batch sizes to further check the performance:\n",
    "\n",
    "\n"
   ]
  },
  {
   "cell_type": "code",
   "execution_count": 0,
   "metadata": {
    "application/vnd.databricks.v1+cell": {
     "cellMetadata": {
      "byteLimit": 2048000,
      "rowLimit": 10000
     },
     "inputWidgets": {},
     "nuid": "58a6b62e-d5e0-4807-a47e-58d98e161f62",
     "showTitle": false,
     "tableResultSettingsMap": {},
     "title": ""
    }
   },
   "outputs": [],
   "source": [
    "\n",
    "gold_query=gold_restart(delay_between_starts=5)\n"
   ]
  },
  {
   "cell_type": "code",
   "execution_count": 0,
   "metadata": {
    "application/vnd.databricks.v1+cell": {
     "cellMetadata": {
      "byteLimit": 2048000,
      "rowLimit": 10000
     },
     "inputWidgets": {},
     "nuid": "647b4347-7ea1-4cbc-a913-23f24a175d01",
     "showTitle": false,
     "tableResultSettingsMap": {},
     "title": ""
    }
   },
   "outputs": [],
   "source": [
    "print(gold_query.name)\n",
    "print(gold_query.status)"
   ]
  },
  {
   "cell_type": "markdown",
   "metadata": {
    "application/vnd.databricks.v1+cell": {
     "cellMetadata": {
      "byteLimit": 2048000,
      "rowLimit": 10000
     },
     "inputWidgets": {},
     "nuid": "05cd829f-46d6-4d94-8555-887d29a33daf",
     "showTitle": false,
     "tableResultSettingsMap": {},
     "title": ""
    }
   },
   "source": [
    "## 6.0 Monitor your Streams (5 points)\n",
    "\n",
    "- Setup a loop that runs at least every 10 seconds\n",
    "- Print a timestamp of the monitoring query along with the list of streams, rows processed on each, and the processing time on each\n",
    "- Run the loop until all of the data is processed (0 rows read on each active stream)\n",
    "- Plot a line graph that shows the data processed by each stream over time\n",
    "- Plot a line graph that shows the average processing time on each stream over time"
   ]
  },
  {
   "cell_type": "markdown",
   "metadata": {
    "application/vnd.databricks.v1+cell": {
     "cellMetadata": {
      "byteLimit": 2048000,
      "rowLimit": 10000
     },
     "inputWidgets": {},
     "nuid": "b8bfd9f5-746f-4546-9e5f-23a975915d43",
     "showTitle": false,
     "tableResultSettingsMap": {},
     "title": ""
    }
   },
   "source": [
    "### ANSWER 6\n",
    "\n",
    "- Functions are added in the **MONITORING and PLOTTING ** cells in **[utilities](https://dbc-f85bdc5b-07db.cloud.databricks.com/editor/notebooks/4468159549031945?o=1093580174577663)/** \n",
    "\n",
    "- Cell 6.a) monitor_streams()\n",
    "- Cell 6.b) plot_stream_metrics()"
   ]
  },
  {
   "cell_type": "code",
   "execution_count": 0,
   "metadata": {
    "application/vnd.databricks.v1+cell": {
     "cellMetadata": {
      "byteLimit": 2048000,
      "rowLimit": 10000
     },
     "inputWidgets": {},
     "nuid": "6f39476b-99c2-47ed-a45f-b3e7ac0d7282",
     "showTitle": false,
     "tableResultSettingsMap": {},
     "title": ""
    }
   },
   "outputs": [],
   "source": [
    "for s in spark.streams.active:\n",
    "    print(s.name)\n",
    "    print(s.status)"
   ]
  },
  {
   "cell_type": "code",
   "execution_count": 0,
   "metadata": {
    "application/vnd.databricks.v1+cell": {
     "cellMetadata": {
      "byteLimit": 2048000,
      "rowLimit": 10000
     },
     "inputWidgets": {},
     "nuid": "5239839f-6e83-4201-8c16-c82688889496",
     "showTitle": false,
     "tableResultSettingsMap": {},
     "title": ""
    }
   },
   "outputs": [],
   "source": [
    "progress_log = []\n",
    "idle_rounds = {}\n",
    "IDLE_LIMIT = 3\n",
    "\n",
    "while True:\n",
    "    latest_metrics = monitor_streams(interval_sec=10)\n",
    "    progress_log.extend(latest_metrics)\n",
    "\n",
    "    # 2️⃣ Print a live summary table\n",
    "    if latest_metrics:\n",
    "        print(\"\\n---- Batch Summary -----------------------------------\")\n",
    "        for m in latest_metrics:\n",
    "            ts = m[\"timestamp\"]\n",
    "            query = m[\"query\"]\n",
    "            rows = m[\"input_rows\"]\n",
    "            proc = m[\"processing_time\"] or \"N/A\"\n",
    "            print(f\"{ts} | {query:<20} rows={rows:<5} proc_ms={proc}\")\n",
    "    else:\n",
    "        print(\"⏳ No progress from streams yet...\")\n",
    "\n",
    "    # 3️⃣ Track idle streaks\n",
    "    for m in latest_metrics:\n",
    "        q = m[\"query\"]\n",
    "        idle_rounds[q] = idle_rounds.get(q, 0) + (1 if m[\"input_rows\"] == 0 else -idle_rounds.get(q, 0))\n",
    "\n",
    "    # 4️⃣ Check if all streams idle\n",
    "    if spark.streams.active and all(idle_rounds.get(q.name, 0) >= IDLE_LIMIT for q in spark.streams.active):\n",
    "        print(\"\\n✅ All active streams have been idle for \"\n",
    "              f\"{IDLE_LIMIT} consecutive polls — monitoring loop exiting.\")\n",
    "        break\n",
    "\n",
    "    if not spark.streams.active:\n",
    "        print(\"\\n✅ No active streams — monitoring loop exiting.\")\n",
    "        break\n",
    "\n",
    "# Plot updated stream metrics:\n",
    "plot_stream_metrics(progress_log)"
   ]
  },
  {
   "cell_type": "markdown",
   "metadata": {
    "application/vnd.databricks.v1+cell": {
     "cellMetadata": {
      "byteLimit": 2048000,
      "rowLimit": 10000
     },
     "inputWidgets": {},
     "nuid": "a0a990a9-5f14-4062-9d36-5ee09db4292a",
     "showTitle": false,
     "tableResultSettingsMap": {},
     "title": ""
    }
   },
   "source": [
    "### **LOADING DATA FILES:**\n",
    "\n"
   ]
  },
  {
   "cell_type": "code",
   "execution_count": 0,
   "metadata": {
    "application/vnd.databricks.v1+cell": {
     "cellMetadata": {
      "byteLimit": 2048000,
      "rowLimit": 10000
     },
     "inputWidgets": {},
     "nuid": "808ee1c1-2328-4b9e-adc9-aba8c9f4cfd5",
     "showTitle": false,
     "tableResultSettingsMap": {},
     "title": ""
    }
   },
   "outputs": [],
   "source": [
    "# Apply IDLE CHECK AND TURN OFF:\n",
    "\n",
    "gold_log = stream_until_idle(gold_query, idle_rounds_required=3, interval_sec=10)\n"
   ]
  },
  {
   "cell_type": "code",
   "execution_count": 0,
   "metadata": {
    "application/vnd.databricks.v1+cell": {
     "cellMetadata": {
      "byteLimit": 2048000,
      "rowLimit": 10000
     },
     "inputWidgets": {},
     "nuid": "bfb526af-711b-4697-b8d3-bfb140a0b036",
     "showTitle": false,
     "tableResultSettingsMap": {},
     "title": ""
    }
   },
   "outputs": [],
   "source": [
    "gold_query.awaitTermination()"
   ]
  },
  {
   "cell_type": "code",
   "execution_count": 0,
   "metadata": {
    "application/vnd.databricks.v1+cell": {
     "cellMetadata": {
      "byteLimit": 2048000,
      "rowLimit": 10000
     },
     "inputWidgets": {},
     "nuid": "8fb6423a-250c-4724-9b88-57008def93d7",
     "showTitle": false,
     "tableResultSettingsMap": {},
     "title": ""
    }
   },
   "outputs": [],
   "source": [
    "\n",
    "bronze_df = load_bronze_data()\n",
    "print(f\"Total tweets in Bronze: {bronze_df.count()}\")\n",
    "print('______________________')\n",
    "bronze_df.printSchema()\n",
    "\n",
    "\n",
    "silver_df = load_silver_data()\n",
    "print(f\"Total tweets in Silver: {silver_df.count()}\")\n",
    "print('______________________')\n",
    "silver_df.printSchema()\n",
    "\n",
    "\n",
    "\n",
    "\n",
    "\n",
    "gold_df = load_gold_data()\n",
    "print(f\"Total tweets in Gold: {gold_df.count()}\")\n",
    "print('______________________')\n",
    "gold_df.printSchema()\n",
    "\n"
   ]
  },
  {
   "cell_type": "markdown",
   "metadata": {
    "application/vnd.databricks.v1+cell": {
     "cellMetadata": {
      "byteLimit": 2048000,
      "rowLimit": 10000
     },
     "inputWidgets": {},
     "nuid": "9bc3e824-d218-43e5-a43b-4c6dbe31950d",
     "showTitle": false,
     "tableResultSettingsMap": {},
     "title": ""
    }
   },
   "source": [
    "## 7.0 Bronze Data Exploratory Data Analysis (5 points)\n",
    "\n",
    "\n"
   ]
  },
  {
   "cell_type": "markdown",
   "metadata": {
    "application/vnd.databricks.v1+cell": {
     "cellMetadata": {
      "byteLimit": 2048000,
      "rowLimit": 10000
     },
     "inputWidgets": {},
     "nuid": "c11907b2-b825-420f-a85a-d2df7fbbcd7c",
     "showTitle": false,
     "tableResultSettingsMap": {},
     "title": ""
    }
   },
   "source": [
    "### ANSWER 7:\n",
    "\n",
    "I have the cells below to compute answers to these questions.. Will paste some numerical answers back here.\n",
    "\n",
    "- How many tweets are captured in your Bronze Table? \n",
    "\n",
    "- Are there any columns that contain Nan or Null values?  If so how many and what will you do in your silver transforms to address this? \n",
    "\n",
    "- * **I have filltered out NAN values and empty tweet cells ('Cleaned_Text\") in my Gold Data, since the model does not except Nan Values.Actually what I fillteres is what is left after @Mention removals!!**\n",
    "\n",
    "- Count the number of tweets by each unique user handle and sort the data by descending count.\n",
    "\n",
    "- How many tweets have at least one mention (@) how many tweet have no mentions (@)\n",
    "\n",
    "- Plot a bar chart that shows the top 20 tweeters (users)"
   ]
  },
  {
   "cell_type": "code",
   "execution_count": 0,
   "metadata": {
    "application/vnd.databricks.v1+cell": {
     "cellMetadata": {
      "byteLimit": 2048000,
      "rowLimit": 10000
     },
     "inputWidgets": {},
     "nuid": "33e05866-0264-43af-8a95-52e841124d60",
     "showTitle": false,
     "tableResultSettingsMap": {},
     "title": ""
    }
   },
   "outputs": [],
   "source": [
    "from pyspark.sql import functions as F\n",
    "import matplotlib.pyplot as plt\n",
    "\n",
    "# 1. How many tweets are captured in your Bronze Table?\n",
    "total_tweets = bronze_df.count()\n",
    "print(f\"Total tweets in Bronze: {total_tweets}\")\n",
    "\n",
    "# 2. Null/NaN/empty counts per column via filter (no F. prefix)\n",
    "for c in bronze_df.columns:\n",
    "    cnt = bronze_df.filter(\n",
    "        col(c).isNull() | (col(c) == \"\")\n",
    "    ).count()\n",
    "    print(f\"Column `{c}` → {cnt} null/empty values\")\n",
    "\n",
    "\n",
    "# 3. Count tweets per user, descending\n",
    "user_counts = (\n",
    "    bronze_df\n",
    "      .groupBy(\"user\")\n",
    "      .count()\n",
    "      .orderBy(desc(\"count\"))\n",
    ")\n",
    "user_counts.show(20, truncate=False)   # top 20\n",
    "\n",
    "# 4. Mentions: how many tweets have at least one “@” vs none\n",
    "mention_stats = (\n",
    "    bronze_df\n",
    "      .withColumn(\"has_mention\", when(col(\"text\").contains(\"@\"), 1).otherwise(0))\n",
    "      .groupBy(\"has_mention\")\n",
    "      .count()\n",
    "      .orderBy(\"has_mention\")\n",
    ")\n",
    "mention_stats.show()\n",
    "\n",
    "# 5. Plot top 20 tweeters\n",
    "top20 = user_counts.limit(20).toPandas()\n",
    "\n",
    "plt.figure(figsize=(12, 8))\n",
    "plt.barh(top20[\"user\"], top20[\"count\"])\n",
    "plt.gca().invert_yaxis()  # highest at top\n",
    "plt.xlabel(\"Number of Tweets\")\n",
    "plt.title(\"Top 20 Tweeters by Tweet Count\")\n",
    "plt.tight_layout()\n",
    "plt.show()\n"
   ]
  },
  {
   "cell_type": "code",
   "execution_count": 0,
   "metadata": {
    "application/vnd.databricks.v1+cell": {
     "cellMetadata": {
      "byteLimit": 2048000,
      "rowLimit": 10000
     },
     "inputWidgets": {},
     "nuid": "79cf923f-9a3d-48a8-baf2-f3ab83d2d644",
     "showTitle": false,
     "tableResultSettingsMap": {},
     "title": ""
    }
   },
   "outputs": [],
   "source": [
    "#how many dropped just for having mentions in the tweets:\n",
    "\n",
    "(bronze_df.withColumn(\"cleaned_text\", regexp_replace(col(\"text\"), \"@\\\\w+\", \"\"))\n",
    "      .withColumn(\"trimmed\", trim(col(\"cleaned_text\")))\n",
    "      .filter(col(\"trimmed\") == \"\")\n",
    "      .count())"
   ]
  },
  {
   "cell_type": "code",
   "execution_count": 0,
   "metadata": {
    "application/vnd.databricks.v1+cell": {
     "cellMetadata": {
      "byteLimit": 2048000,
      "rowLimit": 10000
     },
     "inputWidgets": {},
     "nuid": "882cff71-ab72-42c8-a2ff-bfd24f3e1524",
     "showTitle": false,
     "tableResultSettingsMap": {},
     "title": ""
    }
   },
   "outputs": [],
   "source": [
    "#After removing tweets, length of tweets chars :\n",
    "\n",
    "(bronze_df.withColumn(\"cleaned_text\", regexp_replace(col(\"text\"), \"@\\\\w+\", \"\"))\n",
    "      .withColumn(\"text_len\", length(trim(col(\"cleaned_text\"))))\n",
    "      .groupBy(\"text_len\").count()\n",
    "      .orderBy(\"text_len\")\n",
    "      .show(10))"
   ]
  },
  {
   "cell_type": "markdown",
   "metadata": {
    "application/vnd.databricks.v1+cell": {
     "cellMetadata": {
      "byteLimit": 2048000,
      "rowLimit": 10000
     },
     "inputWidgets": {},
     "nuid": "0494d8b4-5a55-47fc-af12-47325f34a303",
     "showTitle": false,
     "tableResultSettingsMap": {},
     "title": ""
    }
   },
   "source": [
    "## 8.0 Capture the accuracy metrics from the gold table in MLflow  (4 points)\n",
    "Store the following in an MLflow experiment run:\n",
    "- Store the precision, recall, and F1-score as MLflow metrics\n",
    "- Store an image of the confusion matrix as an MLflow artifact\n",
    "- Store the model name and the MLflow version that was used as an MLflow parameters\n",
    "- Store the version of the Delta Table (input-silver) as an MLflow parameter"
   ]
  },
  {
   "cell_type": "markdown",
   "metadata": {
    "application/vnd.databricks.v1+cell": {
     "cellMetadata": {
      "byteLimit": 2048000,
      "rowLimit": 10000
     },
     "inputWidgets": {},
     "nuid": "b4c1793c-1447-4e46-818e-91f2280c7738",
     "showTitle": false,
     "tableResultSettingsMap": {},
     "title": ""
    }
   },
   "source": [
    "### ANSWER 8:\n",
    "\n",
    "- I have added the MlFlow setting in the **ML_Flow Registry cell in**  **[utilities](https://dbc-f85bdc5b-07db.cloud.databricks.com/editor/notebooks/4468159549031945?o=1093580174577663)/**. The function to call:\n",
    "- * mlflow_run_calls()\n",
    "- here I will assign the results to  **y_pred** and **y_true** from the gold_df and run.."
   ]
  },
  {
   "cell_type": "code",
   "execution_count": 0,
   "metadata": {
    "application/vnd.databricks.v1+cell": {
     "cellMetadata": {
      "byteLimit": 2048000,
      "rowLimit": 10000
     },
     "inputWidgets": {},
     "nuid": "92a67785-71da-4a9d-a936-ae31d7344fd3",
     "showTitle": false,
     "tableResultSettingsMap": {},
     "title": ""
    }
   },
   "outputs": [],
   "source": [
    "#to make sure Gold Table has finised processing the tweets:\n",
    "gold_query.awaitTermination()"
   ]
  },
  {
   "cell_type": "code",
   "execution_count": 0,
   "metadata": {
    "application/vnd.databricks.v1+cell": {
     "cellMetadata": {
      "byteLimit": 2048000,
      "rowLimit": 10000
     },
     "inputWidgets": {},
     "nuid": "b94dd6cf-4ab2-4ced-acc6-cfe38930c7c0",
     "showTitle": false,
     "tableResultSettingsMap": {},
     "title": ""
    }
   },
   "outputs": [],
   "source": [
    "\n",
    "gold_pd = (\n",
    "    gold_df\n",
    "      .select(\"sentiment_id\", \"predicted_sentiment_id\")\n",
    "      .toPandas()\n",
    ")\n",
    "\n",
    "# Now slice out two Series\n",
    "y_true = gold_pd[\"sentiment_id\"]\n",
    "y_pred = gold_pd[\"predicted_sentiment_id\"]\n",
    "\n"
   ]
  },
  {
   "cell_type": "code",
   "execution_count": 0,
   "metadata": {
    "application/vnd.databricks.v1+cell": {
     "cellMetadata": {
      "byteLimit": 2048000,
      "rowLimit": 10000
     },
     "inputWidgets": {},
     "nuid": "8acac993-241b-4755-802c-d92b3283ff29",
     "showTitle": false,
     "tableResultSettingsMap": {},
     "title": ""
    }
   },
   "outputs": [],
   "source": [
    "endtime = time.time()\n",
    "elapsed_time = endtime - START_TIME\n",
    "print(f\"Total run time: {timedelta(seconds=elapsed_time)}\")"
   ]
  },
  {
   "cell_type": "code",
   "execution_count": 0,
   "metadata": {
    "application/vnd.databricks.v1+cell": {
     "cellMetadata": {
      "byteLimit": 2048000,
      "rowLimit": 10000
     },
     "inputWidgets": {},
     "nuid": "e2760144-bc47-4bcf-b87c-5f10f589a153",
     "showTitle": false,
     "tableResultSettingsMap": {},
     "title": ""
    }
   },
   "outputs": [],
   "source": [
    "\n",
    "#Call MlFLow :\n",
    "mlflow_run_calls(\n",
    "    y_true, y_pred,\n",
    "    model_name=HF_MODEL_NAME,\n",
    "    silver_delta_path=SILVER_DELTA,\n",
    "    run_name=f'batch_size={batch_size}/Partition={spark.conf.get(\"spark.sql.shuffle.partitions\")}',\n",
    "    extra_params={\"batch_size\": batch_size, \"elapsed_time\": timedelta(seconds=elapsed_time)}\n",
    "   )\n"
   ]
  },
  {
   "cell_type": "markdown",
   "metadata": {
    "application/vnd.databricks.v1+cell": {
     "cellMetadata": {
      "byteLimit": 2048000,
      "rowLimit": 10000
     },
     "inputWidgets": {},
     "nuid": "81e0e2de-b872-4698-81cc-1669646c2183",
     "showTitle": false,
     "tableResultSettingsMap": {},
     "title": ""
    }
   },
   "source": [
    "## 9.0 Application Data Processing and Visualization (6 points)\n",
    "- How many mentions are there in the gold data total?\n",
    "- Count the number of neutral, positive and negative tweets for each mention in new columns\n",
    "- Capture the total for each mention in a new column\n",
    "- Sort the mention count totals in descending order\n",
    "- Plot a bar chart of the top 20 mentions with positive sentiment (the people who are in favor)\n",
    "- Plot a bar chart of the top 20 mentions with negative sentiment (the people who are the vilians)\n",
    "\n",
    "*note: A mention is a specific twitter user that has been \"mentioned\" in a tweet with an @user reference."
   ]
  },
  {
   "cell_type": "code",
   "execution_count": 0,
   "metadata": {
    "application/vnd.databricks.v1+cell": {
     "cellMetadata": {
      "byteLimit": 2048000,
      "rowLimit": 10000
     },
     "inputWidgets": {},
     "nuid": "cc095ed2-c40d-4345-95af-70202e5b05c2",
     "showTitle": false,
     "tableResultSettingsMap": {},
     "title": ""
    }
   },
   "outputs": [],
   "source": [
    "gold_df.printSchema()"
   ]
  },
  {
   "cell_type": "code",
   "execution_count": 0,
   "metadata": {
    "application/vnd.databricks.v1+cell": {
     "cellMetadata": {
      "byteLimit": 2048000,
      "rowLimit": 10000
     },
     "inputWidgets": {},
     "nuid": "8250667b-eaa5-48a1-90c7-bfe11e666e32",
     "showTitle": false,
     "tableResultSettingsMap": {},
     "title": ""
    }
   },
   "outputs": [],
   "source": [
    "\n",
    "# 1. Count sentiment label frequency per mention\n",
    "mention_sentiment_df = (\n",
    "    gold_df\n",
    "    .filter(col(\"mention\").isNotNull())\n",
    "    .groupBy(\"mention\")\n",
    "    .pivot(\"predicted_sentiment\")  # should be \"POS\", \"NEG\", \"NEU\"\n",
    "    .count()\n",
    "    .fillna(0)\n",
    ")\n",
    "\n",
    "# 2. Add total column and sort\n",
    "sentiment_cols = [c for c in mention_sentiment_df.columns if c != \"mention\"]\n",
    "mention_counts_df = (\n",
    "    mention_sentiment_df\n",
    "    .withColumn(\"total\", expr(\" + \".join(f\"`{c}`\" for c in sentiment_cols)))\n",
    "    .orderBy(col(\"total\").desc())\n",
    ")\n",
    "\n",
    "# 3. Total number of mentions\n",
    "total_mentions = gold_df.filter(col(\"mention\").isNotNull()).count()\n",
    "print(f\"✅ Total mention occurrences in Gold: {total_mentions}\")\n",
    "\n",
    "# 4. Show top 20 mentions by overall activity\n",
    "display(mention_counts_df.limit(20))\n"
   ]
  },
  {
   "cell_type": "code",
   "execution_count": 0,
   "metadata": {
    "application/vnd.databricks.v1+cell": {
     "cellMetadata": {
      "byteLimit": 2048000,
      "rowLimit": 10000
     },
     "inputWidgets": {},
     "nuid": "6cf27a7f-fb44-492c-a0b7-d21a971d700c",
     "showTitle": false,
     "tableResultSettingsMap": {},
     "title": ""
    }
   },
   "outputs": [],
   "source": [
    "#Positive sentiments mentions:\n",
    "\n",
    "if \"POS\" in mention_counts_df.columns:\n",
    "    pos_pd = (\n",
    "        mention_counts_df\n",
    "        .select(\"mention\", \"POS\")\n",
    "        .orderBy(col(\"POS\").desc())\n",
    "        .limit(20)\n",
    "        .toPandas()\n",
    "    )\n",
    "\n",
    "    plt.figure(figsize=(10, 6))\n",
    "    plt.barh(pos_pd[\"mention\"], pos_pd[\"POS\"])\n",
    "    plt.gca().invert_yaxis()\n",
    "    plt.xlabel(\"Positive Tweet Count\")\n",
    "    plt.title(\"Top 20 Mentions by Positive Sentiment\")\n",
    "    plt.tight_layout()\n",
    "    plt.show()\n"
   ]
  },
  {
   "cell_type": "code",
   "execution_count": 0,
   "metadata": {
    "application/vnd.databricks.v1+cell": {
     "cellMetadata": {
      "byteLimit": 2048000,
      "rowLimit": 10000
     },
     "inputWidgets": {},
     "nuid": "e0c91c59-71f3-4a07-842c-9df67a6386b3",
     "showTitle": false,
     "tableResultSettingsMap": {},
     "title": ""
    }
   },
   "outputs": [],
   "source": [
    "#negative sentiments top list:\n",
    "if \"NEG\" in mention_counts_df.columns:\n",
    "    neg_pd = (\n",
    "        mention_counts_df\n",
    "        .select(\"mention\", \"NEG\")\n",
    "        .orderBy(col(\"NEG\").desc())\n",
    "        .limit(20)\n",
    "        .toPandas()\n",
    "    )\n",
    "\n",
    "    plt.figure(figsize=(10, 6))\n",
    "    plt.barh(neg_pd[\"mention\"], neg_pd[\"NEG\"])\n",
    "    plt.gca().invert_yaxis()\n",
    "    plt.xlabel(\"Negative Tweet Count\")\n",
    "    plt.title(\"Top 20 Mentions by Negative Sentiment\")\n",
    "    plt.tight_layout()\n",
    "    plt.show()\n"
   ]
  },
  {
   "cell_type": "markdown",
   "metadata": {
    "application/vnd.databricks.v1+cell": {
     "cellMetadata": {
      "byteLimit": 2048000,
      "rowLimit": 10000
     },
     "inputWidgets": {},
     "nuid": "5d5add3f-0c13-4d81-86d8-12cf3cfdd2c8",
     "showTitle": false,
     "tableResultSettingsMap": {},
     "title": ""
    }
   },
   "source": [
    "## 10.0 Clean up and completion of your pipeline (3 points)\n",
    "- using the utilities what streams are running? If any.\n",
    "- Stop all active streams\n",
    "- print out the elapsed time of your notebook. Note: In the includes there is a variable START_TIME that captures the starting time of the notebook."
   ]
  },
  {
   "cell_type": "markdown",
   "metadata": {
    "application/vnd.databricks.v1+cell": {
     "cellMetadata": {
      "byteLimit": 2048000,
      "rowLimit": 10000
     },
     "inputWidgets": {},
     "nuid": "2e7cb766-eb61-468c-9ed7-9e56e70a3829",
     "showTitle": false,
     "tableResultSettingsMap": {},
     "title": ""
    }
   },
   "source": [
    "\n",
    "### ANSWER 10:\n",
    "- In the Monitoring and Plotting section above, **(see ANSWER 6)** I have stopped the streams after checking for idle time.\n",
    "\n"
   ]
  },
  {
   "cell_type": "code",
   "execution_count": 0,
   "metadata": {
    "application/vnd.databricks.v1+cell": {
     "cellMetadata": {
      "byteLimit": 2048000,
      "rowLimit": 10000
     },
     "inputWidgets": {},
     "nuid": "56a6c182-09a3-44f0-9e5e-8cf7fb3b2530",
     "showTitle": false,
     "tableResultSettingsMap": {},
     "title": ""
    }
   },
   "outputs": [],
   "source": [
    "\n",
    "from datetime import timedelta\n",
    "#current streams:\n",
    "for stream in spark.streams.active:\n",
    "    print(f\"🔄 Stream: {stream.name} | IsActive: {stream.isActive}\")\n",
    "\n",
    "#stop them:\n",
    "stop_all_streams()\n",
    "\n",
    "# Timing the notebook:\n",
    "elapsed_seconds = time.time() - START_TIME\n",
    "print(f\"⏱️ Notebook Elapsed Time: {str(timedelta(seconds=elapsed_seconds))}\")"
   ]
  },
  {
   "cell_type": "code",
   "execution_count": 0,
   "metadata": {
    "application/vnd.databricks.v1+cell": {
     "cellMetadata": {
      "byteLimit": 2048000,
      "rowLimit": 10000
     },
     "inputWidgets": {},
     "nuid": "be624737-d587-4d1e-9b52-d442836ac50d",
     "showTitle": false,
     "tableResultSettingsMap": {},
     "title": ""
    }
   },
   "outputs": [],
   "source": [
    "active_streams = spark.streams.active\n",
    "\n",
    "if not active_streams:\n",
    "    print(\"✅ No active streams.\")\n",
    "else:\n",
    "    for s in active_streams:\n",
    "        print(s.name or \"(Unnamed Stream)\")\n",
    "        print(\"------\")"
   ]
  },
  {
   "cell_type": "markdown",
   "metadata": {
    "application/vnd.databricks.v1+cell": {
     "cellMetadata": {
      "byteLimit": 2048000,
      "rowLimit": 10000
     },
     "inputWidgets": {},
     "nuid": "b88fc0e5-f50c-4ed1-9480-16a4c8a44b30",
     "showTitle": false,
     "tableResultSettingsMap": {},
     "title": ""
    }
   },
   "source": [
    "## 11.0 How Optimized is your Spark Application (Grad Students Only) (5 points)\n",
    "Graduate students (registered for the DSCC-402 section of the course) are required to do this section.  This is a written analysis using the Spark UI (link to screen shots) that support your analysis of your pipelines execution and what is driving its performance.\n",
    "Recall that Spark Optimization has 5 significant dimensions of considertation:\n",
    "- Spill: write to executor disk due to lack of memory\n",
    "- Skew: imbalance in partition size\n",
    "- Shuffle: network io moving data between executors (wide transforms)\n",
    "- Storage: inefficiency due to disk storage format (small files, location)\n",
    "- Serialization: distribution of code segments across the cluster\n",
    "\n",
    "Comment on each of the dimentions of performance and how your impelementation is or is not being affected.  Use specific information in the Spark UI to support your description.  \n",
    "\n",
    "Note: you can take sreenshots of the Spark UI from your project runs in databricks and then link to those pictures by storing them as a publicly accessible file on your cloud drive (google, one drive, etc.)\n",
    "\n",
    "References:\n",
    "- [Spark UI Reference Reference](https://spark.apache.org/docs/latest/web-ui.html#web-ui)\n",
    "- [Spark UI Simulator](https://www.databricks.training/spark-ui-simulator/index.html)"
   ]
  },
  {
   "cell_type": "markdown",
   "metadata": {
    "application/vnd.databricks.v1+cell": {
     "cellMetadata": {
      "byteLimit": 2048000,
      "rowLimit": 10000
     },
     "inputWidgets": {},
     "nuid": "a0a5707d-a5ca-4e87-9e74-3b13d00337b0",
     "showTitle": false,
     "tableResultSettingsMap": {},
     "title": ""
    }
   },
   "source": [
    "### ANSWER 11:\n",
    "I have written a report in a Google Doc which has the screenshots and comments. There I have three sections \n",
    "- **Optimization Criteria:** Answer to this section Optimization questions\n",
    "- **MLFlow Sreenshots:** What I have seen in the MlFlow, the experiments I have done so far. Can be couple more when submitted.\n",
    "- **In this Project:** I wanted to summarize what I learned in this project.\n",
    "\n",
    "The link to the Google Docs is here: [Click here for the document report](https://docs.google.com/document/d/1j6ssN2TYuTTPMCIjDhtigyfV9iKQuKUV9lCAWDWB4T0/edit?usp=sharing)"
   ]
  },
  {
   "cell_type": "code",
   "execution_count": 0,
   "metadata": {
    "application/vnd.databricks.v1+cell": {
     "cellMetadata": {
      "byteLimit": 2048000,
      "rowLimit": 10000
     },
     "inputWidgets": {},
     "nuid": "b61bdd32-13d3-4e12-a5fa-ae4de8f84379",
     "showTitle": false,
     "tableResultSettingsMap": {},
     "title": ""
    }
   },
   "outputs": [],
   "source": []
  }
 ],
 "metadata": {
  "application/vnd.databricks.v1+notebook": {
   "computePreferences": null,
   "dashboards": [],
   "environmentMetadata": null,
   "inputWidgetPreferences": null,
   "language": "python",
   "notebookMetadata": {
    "mostRecentlyExecutedCommandWithImplicitDF": {
     "commandId": -1,
     "dataframes": [
      "_sqldf"
     ]
    },
    "pythonIndentUnit": 4,
    "widgetLayout": [
     {
      "breakBefore": false,
      "name": "clear_previous_run",
      "width": 203
     },
     {
      "breakBefore": false,
      "name": "stop_streams",
      "width": 203
     }
    ]
   },
   "notebookName": "Starter Streaming Tweet Sentiment - Spring 2025 Final Project",
   "widgets": {
    "clear_previous_run": {
     "currentValue": "Yes",
     "nuid": "ad565d4d-7c62-488a-8718-e2de51ffbe13",
     "typedWidgetInfo": {
      "autoCreated": false,
      "defaultValue": "No",
      "label": null,
      "name": "clear_previous_run",
      "options": {
       "widgetDisplayType": "Dropdown",
       "choices": [
        "No",
        "Yes"
       ],
       "fixedDomain": true,
       "multiselect": false
      },
      "parameterDataType": "String"
     },
     "widgetInfo": {
      "widgetType": "dropdown",
      "defaultValue": "No",
      "label": null,
      "name": "clear_previous_run",
      "options": {
       "widgetType": "dropdown",
       "autoCreated": null,
       "choices": [
        "No",
        "Yes"
       ]
      }
     }
    },
    "optimize_tables": {
     "currentValue": "Yes",
     "nuid": "bc30ee89-dddd-464f-a3f7-6eedf89ba45d",
     "typedWidgetInfo": {
      "autoCreated": false,
      "defaultValue": "No",
      "label": null,
      "name": "optimize_tables",
      "options": {
       "widgetDisplayType": "Dropdown",
       "choices": [
        "No",
        "Yes"
       ],
       "fixedDomain": true,
       "multiselect": false
      },
      "parameterDataType": "String"
     },
     "widgetInfo": {
      "widgetType": "dropdown",
      "defaultValue": "No",
      "label": null,
      "name": "optimize_tables",
      "options": {
       "widgetType": "dropdown",
       "autoCreated": null,
       "choices": [
        "No",
        "Yes"
       ]
      }
     }
    },
    "stop_streams": {
     "currentValue": "Yes",
     "nuid": "f8937b8c-0b53-4ca0-b984-540d4fd0c075",
     "typedWidgetInfo": {
      "autoCreated": false,
      "defaultValue": "No",
      "label": null,
      "name": "stop_streams",
      "options": {
       "widgetDisplayType": "Dropdown",
       "choices": [
        "No",
        "Yes"
       ],
       "fixedDomain": true,
       "multiselect": false
      },
      "parameterDataType": "String"
     },
     "widgetInfo": {
      "widgetType": "dropdown",
      "defaultValue": "No",
      "label": null,
      "name": "stop_streams",
      "options": {
       "widgetType": "dropdown",
       "autoCreated": null,
       "choices": [
        "No",
        "Yes"
       ]
      }
     }
    }
   }
  },
  "language_info": {
   "name": "python"
  }
 },
 "nbformat": 4,
 "nbformat_minor": 0
}
